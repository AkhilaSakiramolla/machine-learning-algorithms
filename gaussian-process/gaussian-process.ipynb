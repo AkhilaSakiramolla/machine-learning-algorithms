{
 "cells": [
  {
   "cell_type": "markdown",
   "metadata": {
    "id": "H9favxu9UHXy"
   },
   "source": [
    "## Importing required libraries"
   ]
  },
  {
   "cell_type": "code",
   "execution_count": 1,
   "metadata": {
    "colab": {
     "base_uri": "https://localhost:8080/"
    },
    "id": "KmOgkUxVTrLF",
    "outputId": "713f9146-e3f8-45bb-b2c9-df79140559fb"
   },
   "outputs": [
    {
     "name": "stderr",
     "output_type": "stream",
     "text": [
      "/usr/local/lib/python3.7/dist-packages/statsmodels/tools/_testing.py:19: FutureWarning: pandas.util.testing is deprecated. Use the functions in the public API at pandas.testing instead.\n",
      "  import pandas.util.testing as tm\n"
     ]
    }
   ],
   "source": [
    "import pandas as pd\n",
    "import numpy as np\n",
    "from sklearn.utils import shuffle\n",
    "import matplotlib.pyplot as plt\n",
    "from numpy.matlib import repmat\n",
    "import seaborn as sns\n",
    "from sklearn.linear_model import RidgeClassifier\n",
    "from sklearn.svm import SVC\n",
    "from sklearn.preprocessing import MinMaxScaler\n",
    "import statsmodels.api as sm\n",
    "from sklearn.metrics import accuracy_score, recall_score, precision_score\n",
    "from sklearn.preprocessing import StandardScaler\n",
    "from sklearn.model_selection import train_test_split\n",
    "from numpy.linalg import multi_dot\n",
    "from sklearn.metrics.pairwise import rbf_kernel\n",
    "\n",
    "# To execute a cell line by line\n",
    "from IPython.core.interactiveshell import InteractiveShell\n",
    "InteractiveShell.ast_node_interactivity = \"all\"\n",
    "\n",
    "import warnings\n",
    "warnings.filterwarnings('ignore')"
   ]
  },
  {
   "cell_type": "markdown",
   "metadata": {
    "id": "bS2de0f1SSbI"
   },
   "source": [
    "# Question 3: Gaussian Processes and Hyper Parameter Tuning"
   ]
  },
  {
   "cell_type": "markdown",
   "metadata": {
    "id": "24_CubgRSZkb"
   },
   "source": [
    "Now for this problem, you will implement a basic Gaussian Progress Regression. We will be using the\n",
    "standard radial basis kernel:\n",
    "![image.png](data:image/png;base64,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)\n",
    "\n",
    "\n",
    "where σ, h are known as the scale and bandwith parameters.\n",
    "So your implementation will be tested on the Concrete Compressive Strength dataset from the UCI\n",
    "repository (which is the data repository I announced before, but we will attach the dataset). The\n",
    "strength of concrete is predicted from 8 features consisting of the ingredients that make up the concrete\n",
    "composition and its age."
   ]
  },
  {
   "cell_type": "markdown",
   "metadata": {
    "id": "hh2pkGTYUYxX"
   },
   "source": [
    "### Load data"
   ]
  },
  {
   "cell_type": "code",
   "execution_count": 31,
   "metadata": {
    "colab": {
     "base_uri": "https://localhost:8080/",
     "height": 309
    },
    "id": "zgDSeszyRdxd",
    "outputId": "0648fb74-14ab-4233-d59a-4a97c16d2bd5"
   },
   "outputs": [
    {
     "name": "stdout",
     "output_type": "stream",
     "text": [
      "The number of rows in data : 1030\n",
      "The number of columns in data : 9\n",
      "The first few rows of the data:\n"
     ]
    },
    {
     "data": {
      "text/html": [
       "<div>\n",
       "<style scoped>\n",
       "    .dataframe tbody tr th:only-of-type {\n",
       "        vertical-align: middle;\n",
       "    }\n",
       "\n",
       "    .dataframe tbody tr th {\n",
       "        vertical-align: top;\n",
       "    }\n",
       "\n",
       "    .dataframe thead th {\n",
       "        text-align: right;\n",
       "    }\n",
       "</style>\n",
       "<table border=\"1\" class=\"dataframe\">\n",
       "  <thead>\n",
       "    <tr style=\"text-align: right;\">\n",
       "      <th></th>\n",
       "      <th>Cement (component 1)(kg in a m^3 mixture)</th>\n",
       "      <th>Blast Furnace Slag (component 2)(kg in a m^3 mixture)</th>\n",
       "      <th>Fly Ash (component 3)(kg in a m^3 mixture)</th>\n",
       "      <th>Water  (component 4)(kg in a m^3 mixture)</th>\n",
       "      <th>Superplasticizer (component 5)(kg in a m^3 mixture)</th>\n",
       "      <th>Coarse Aggregate  (component 6)(kg in a m^3 mixture)</th>\n",
       "      <th>Fine Aggregate (component 7)(kg in a m^3 mixture)</th>\n",
       "      <th>Age (day)</th>\n",
       "      <th>Concrete compressive strength(MPa, megapascals)</th>\n",
       "    </tr>\n",
       "  </thead>\n",
       "  <tbody>\n",
       "    <tr>\n",
       "      <th>0</th>\n",
       "      <td>540.0</td>\n",
       "      <td>0.0</td>\n",
       "      <td>0.0</td>\n",
       "      <td>162.0</td>\n",
       "      <td>2.5</td>\n",
       "      <td>1040.0</td>\n",
       "      <td>676.0</td>\n",
       "      <td>28</td>\n",
       "      <td>79.986111</td>\n",
       "    </tr>\n",
       "    <tr>\n",
       "      <th>1</th>\n",
       "      <td>540.0</td>\n",
       "      <td>0.0</td>\n",
       "      <td>0.0</td>\n",
       "      <td>162.0</td>\n",
       "      <td>2.5</td>\n",
       "      <td>1055.0</td>\n",
       "      <td>676.0</td>\n",
       "      <td>28</td>\n",
       "      <td>61.887366</td>\n",
       "    </tr>\n",
       "    <tr>\n",
       "      <th>2</th>\n",
       "      <td>332.5</td>\n",
       "      <td>142.5</td>\n",
       "      <td>0.0</td>\n",
       "      <td>228.0</td>\n",
       "      <td>0.0</td>\n",
       "      <td>932.0</td>\n",
       "      <td>594.0</td>\n",
       "      <td>270</td>\n",
       "      <td>40.269535</td>\n",
       "    </tr>\n",
       "    <tr>\n",
       "      <th>3</th>\n",
       "      <td>332.5</td>\n",
       "      <td>142.5</td>\n",
       "      <td>0.0</td>\n",
       "      <td>228.0</td>\n",
       "      <td>0.0</td>\n",
       "      <td>932.0</td>\n",
       "      <td>594.0</td>\n",
       "      <td>365</td>\n",
       "      <td>41.052780</td>\n",
       "    </tr>\n",
       "    <tr>\n",
       "      <th>4</th>\n",
       "      <td>198.6</td>\n",
       "      <td>132.4</td>\n",
       "      <td>0.0</td>\n",
       "      <td>192.0</td>\n",
       "      <td>0.0</td>\n",
       "      <td>978.4</td>\n",
       "      <td>825.5</td>\n",
       "      <td>360</td>\n",
       "      <td>44.296075</td>\n",
       "    </tr>\n",
       "  </tbody>\n",
       "</table>\n",
       "</div>"
      ],
      "text/plain": [
       "   Cement (component 1)(kg in a m^3 mixture)  ...  Concrete compressive strength(MPa, megapascals) \n",
       "0                                      540.0  ...                                         79.986111\n",
       "1                                      540.0  ...                                         61.887366\n",
       "2                                      332.5  ...                                         40.269535\n",
       "3                                      332.5  ...                                         41.052780\n",
       "4                                      198.6  ...                                         44.296075\n",
       "\n",
       "[5 rows x 9 columns]"
      ]
     },
     "execution_count": 31,
     "metadata": {},
     "output_type": "execute_result"
    }
   ],
   "source": [
    "df_conc = pd.read_excel('Concrete_Data.xls')\n",
    "print(\"The number of rows in data : {}\".format(df_conc.shape[0]))\n",
    "print(\"The number of columns in data : {}\".format(df_conc.shape[1]))\n",
    "print(\"The first few rows of the data:\")\n",
    "df_conc.head()"
   ]
  },
  {
   "cell_type": "code",
   "execution_count": 32,
   "metadata": {
    "colab": {
     "base_uri": "https://localhost:8080/",
     "height": 239
    },
    "id": "UtiumHMJUlUU",
    "outputId": "9f7a23cd-78a3-44c1-c538-7a0d46e91fa7"
   },
   "outputs": [
    {
     "data": {
      "text/html": [
       "<div>\n",
       "<style scoped>\n",
       "    .dataframe tbody tr th:only-of-type {\n",
       "        vertical-align: middle;\n",
       "    }\n",
       "\n",
       "    .dataframe tbody tr th {\n",
       "        vertical-align: top;\n",
       "    }\n",
       "\n",
       "    .dataframe thead th {\n",
       "        text-align: right;\n",
       "    }\n",
       "</style>\n",
       "<table border=\"1\" class=\"dataframe\">\n",
       "  <thead>\n",
       "    <tr style=\"text-align: right;\">\n",
       "      <th></th>\n",
       "      <th>Concrete compressive strength(MPa, megapascals)</th>\n",
       "    </tr>\n",
       "  </thead>\n",
       "  <tbody>\n",
       "    <tr>\n",
       "      <th>0</th>\n",
       "      <td>79.986111</td>\n",
       "    </tr>\n",
       "    <tr>\n",
       "      <th>1</th>\n",
       "      <td>61.887366</td>\n",
       "    </tr>\n",
       "  </tbody>\n",
       "</table>\n",
       "</div>"
      ],
      "text/plain": [
       "   Concrete compressive strength(MPa, megapascals) \n",
       "0                                         79.986111\n",
       "1                                         61.887366"
      ]
     },
     "execution_count": 32,
     "metadata": {},
     "output_type": "execute_result"
    },
    {
     "data": {
      "text/html": [
       "<div>\n",
       "<style scoped>\n",
       "    .dataframe tbody tr th:only-of-type {\n",
       "        vertical-align: middle;\n",
       "    }\n",
       "\n",
       "    .dataframe tbody tr th {\n",
       "        vertical-align: top;\n",
       "    }\n",
       "\n",
       "    .dataframe thead th {\n",
       "        text-align: right;\n",
       "    }\n",
       "</style>\n",
       "<table border=\"1\" class=\"dataframe\">\n",
       "  <thead>\n",
       "    <tr style=\"text-align: right;\">\n",
       "      <th></th>\n",
       "      <th>Cement (component 1)(kg in a m^3 mixture)</th>\n",
       "      <th>Blast Furnace Slag (component 2)(kg in a m^3 mixture)</th>\n",
       "      <th>Fly Ash (component 3)(kg in a m^3 mixture)</th>\n",
       "      <th>Water  (component 4)(kg in a m^3 mixture)</th>\n",
       "      <th>Superplasticizer (component 5)(kg in a m^3 mixture)</th>\n",
       "      <th>Coarse Aggregate  (component 6)(kg in a m^3 mixture)</th>\n",
       "      <th>Fine Aggregate (component 7)(kg in a m^3 mixture)</th>\n",
       "      <th>Age (day)</th>\n",
       "    </tr>\n",
       "  </thead>\n",
       "  <tbody>\n",
       "    <tr>\n",
       "      <th>0</th>\n",
       "      <td>540.0</td>\n",
       "      <td>0.0</td>\n",
       "      <td>0.0</td>\n",
       "      <td>162.0</td>\n",
       "      <td>2.5</td>\n",
       "      <td>1040.0</td>\n",
       "      <td>676.0</td>\n",
       "      <td>28</td>\n",
       "    </tr>\n",
       "    <tr>\n",
       "      <th>1</th>\n",
       "      <td>540.0</td>\n",
       "      <td>0.0</td>\n",
       "      <td>0.0</td>\n",
       "      <td>162.0</td>\n",
       "      <td>2.5</td>\n",
       "      <td>1055.0</td>\n",
       "      <td>676.0</td>\n",
       "      <td>28</td>\n",
       "    </tr>\n",
       "  </tbody>\n",
       "</table>\n",
       "</div>"
      ],
      "text/plain": [
       "   Cement (component 1)(kg in a m^3 mixture)  ...  Age (day)\n",
       "0                                      540.0  ...         28\n",
       "1                                      540.0  ...         28\n",
       "\n",
       "[2 rows x 8 columns]"
      ]
     },
     "execution_count": 32,
     "metadata": {},
     "output_type": "execute_result"
    }
   ],
   "source": [
    "# Creating feature and target datasets\n",
    "y = df_conc[['Concrete compressive strength(MPa, megapascals) ']]\n",
    "y.head(2)\n",
    "\n",
    "X = df_conc.drop(columns = ['Concrete compressive strength(MPa, megapascals) '])\n",
    "X.head(2)"
   ]
  },
  {
   "cell_type": "code",
   "execution_count": 33,
   "metadata": {
    "id": "P5pgvF3Vhvu1"
   },
   "outputs": [],
   "source": [
    "# Split the data into training and testing sets\n",
    "X_train, X_test, y_train, y_test = train_test_split(X, y, test_size=0.25, random_state=40)"
   ]
  },
  {
   "cell_type": "markdown",
   "metadata": {
    "id": "W3Or2lXRVeQj"
   },
   "source": [
    "Get your hyperparameters by using your imple\u0002mented HyperParameters functions and searching over the space of hs = logspace(-1,1,10)*norm(std(XTrain)) and sigmas = logspace(-1,1,10)*std(yTrain)"
   ]
  },
  {
   "cell_type": "code",
   "execution_count": 34,
   "metadata": {
    "colab": {
     "base_uri": "https://localhost:8080/"
    },
    "id": "c8Bkl8nzVTGd",
    "outputId": "5098640e-4981-4e34-966a-aea7c4475bd5"
   },
   "outputs": [
    {
     "name": "stdout",
     "output_type": "stream",
     "text": [
      "hs array: [  19.66064233   32.79592804   54.70690517   91.25661791  152.22521336\n",
      "  253.92696018  423.57569868  706.56685051 1178.6245429  1966.06423317]\n",
      "sigmas array: [  1.68181291   2.80543301   4.67974431   7.806284    13.02166654\n",
      "  21.72144895  36.23356067  60.44122202 100.82203492 168.18129061]\n"
     ]
    }
   ],
   "source": [
    "# Creating an array of h's\n",
    "hs = np.logspace(-1,1,10)*np.linalg.norm(np.std(X_train))\n",
    "print('hs array:',hs)\n",
    "\n",
    "# Creating an array of sigma's\n",
    "sigmas = np.logspace(-1,1,10)*np.std(y_train)[0]\n",
    "print('sigmas array:',sigmas)"
   ]
  },
  {
   "cell_type": "markdown",
   "metadata": {
    "id": "AiwBATlUWFen"
   },
   "source": [
    "Implement [K] = RBF Kernel(X1, X2, sigma, h) which takes as input two matrices of examples\n",
    "X1 (n1× D),X2 (n2× D) with hyperparameters σ, h, and outputs the kernel matrix where Ki,j =\n",
    "k(X1\n",
    "i\n",
    ", X2\n",
    "j\n",
    "), where k is the RBF function described above.\n"
   ]
  },
  {
   "cell_type": "markdown",
   "metadata": {
    "id": "tTUNan7Wy7Vd"
   },
   "source": [
    "### RBF Kernel implementation"
   ]
  },
  {
   "cell_type": "code",
   "execution_count": 62,
   "metadata": {
    "id": "4A6YVtf43oIY"
   },
   "outputs": [],
   "source": [
    "# Function to generate RBF kernel\n",
    "def rbfKernel(x, y, sigma, h):\n",
    "  k = sigma*np.exp((-np.sum((y-x[:,np.newaxis])**2,axis=-1))/2*(h**2))\n",
    "  return k"
   ]
  },
  {
   "cell_type": "markdown",
   "metadata": {
    "id": "BTDhW_ovYM1U"
   },
   "source": [
    "In this step, you need to find hyperparameters for the Gaussian Process. One reasonable method\n",
    "for Gaussian processes is to choose parameters that maximizes the log marginal likelihood. First\n",
    "implement [logml] = LogMarinalLikelihood(XTrain, yTrain, sigma, h) which computes the log\n",
    "marginal likelihood of the training data given the parameters.\n"
   ]
  },
  {
   "cell_type": "markdown",
   "metadata": {
    "id": "Yyb8Z-6By-bw"
   },
   "source": [
    "### Log marginial likelihood calculation"
   ]
  },
  {
   "cell_type": "code",
   "execution_count": 56,
   "metadata": {
    "id": "Oy8zFbpQYMPx"
   },
   "outputs": [],
   "source": [
    "# Function to find log marginal likelihood\n",
    "def LogMarinalLikelihood(X_train, y_train,sigma,h):\n",
    "  K = rbfKernel(X_train.values, X_train.values, sigma, h)\n",
    "  N = len(X_train)\n",
    "  noise = 0.1*np.std(y_train)[0]\n",
    "  L = np.linalg.cholesky(K+noise*np.identity(N))\n",
    "  L_inv = np.linalg.inv(L)\n",
    "  logml = (0.5*(multi_dot([y_train.values.T,L_inv,y_train.values]) + np.log(np.linalg.det(L)) + N*np.log(2*np.pi)))[0][0]\n",
    "  return logml"
   ]
  },
  {
   "cell_type": "markdown",
   "metadata": {
    "id": "AD_F0UHRWQuW"
   },
   "source": [
    "Implement [h, sigma] = HyperParameters(XTrain, yTrain, hs, sigmas), which does a grid search across the parameters in hs, sigmas and returns the combination that minimizes the log marginal likelihood (here you can just call the grid search function provided by Python)."
   ]
  },
  {
   "cell_type": "markdown",
   "metadata": {
    "id": "RNF5zcr0zDtE"
   },
   "source": [
    "### Hyperparameter tuning implementation"
   ]
  },
  {
   "cell_type": "code",
   "execution_count": 57,
   "metadata": {
    "id": "YfiVrOl-WJtZ"
   },
   "outputs": [],
   "source": [
    "# Function to find hyperparameters that minimizes the log marginal likelihood\n",
    "def hyperParameters(X_train,y_train,sigmas,hs):\n",
    "  array1 = []\n",
    "  for i in sigmas:\n",
    "    for j in hs:\n",
    "      array2 = []\n",
    "      logml = LogMarinalLikelihood(X_train, y_train,i,j)\n",
    "      array2.append(i)\n",
    "      array2.append(j)\n",
    "      array2.append(logml)\n",
    "      array1.append(array2)\n",
    "\n",
    "  df_mle = pd.DataFrame(array1, columns=['Sigma', 'h', 'mle'])\n",
    "  sigma = df_mle.loc[df_mle['mle'].idxmin()]['Sigma']\n",
    "  h = df_mle.loc[df_mle['mle'].idxmin()]['h']\n",
    "  return sigma,h"
   ]
  },
  {
   "cell_type": "markdown",
   "metadata": {
    "id": "EnsnpZoygZCS"
   },
   "source": [
    "Implement [GPMean, GPVariance] = GPRegression(XTrain, yTrain, XTest, sigma, h) which\n",
    "carries out the Gaussian Process regression and returns the estimated mean and variances for the\n",
    "variables in XTest. See page 19 of chapter 2 in Rasmussen and Williams for help on making this\n",
    "computationally efficient and numerically stable."
   ]
  },
  {
   "cell_type": "markdown",
   "metadata": {
    "id": "IFtU-3dYzKh9"
   },
   "source": [
    "### Gaussion process regression model implementation"
   ]
  },
  {
   "cell_type": "code",
   "execution_count": 58,
   "metadata": {
    "id": "6ZxCmds8aHlb"
   },
   "outputs": [],
   "source": [
    "# Function for Gaussian Process Regression with Radial Basis Kernel\n",
    "def GPRegression(X,Xtest,y,sigma,h):\n",
    "  N, n = len(X), len(Xtest)\n",
    "  K = rbfKernel(X, X, sigma, h)\n",
    "  noise = 0.1*np.std(y)[0]\n",
    "  L = np.linalg.cholesky(K+noise*np.identity(N))\n",
    "  L_inv = np.linalg.solve(L, rbfKernel(X, Xtest, sigma, h))\n",
    "  # Computing mean\n",
    "  mu = np.dot(L_inv.T, np.linalg.solve(L, y))\n",
    "  # Computing variance\n",
    "  K_test = rbfKernel(Xtest, Xtest, sigma, h)\n",
    "  var = np.sqrt(np.diag(K_test) - np.sum(L_inv**2, axis=0))\n",
    "  return mu, var"
   ]
  },
  {
   "cell_type": "markdown",
   "metadata": {
    "id": "e-FvgooTgdu5"
   },
   "source": [
    "Run your Gaussian process regression method on the dataset provided. Compare and report\n",
    "your results with a naive mean prediction. "
   ]
  },
  {
   "cell_type": "code",
   "execution_count": 59,
   "metadata": {
    "id": "o-u8PAIoct32"
   },
   "outputs": [],
   "source": [
    "# Fubction to calculate model score\n",
    "def score(X_train,X_test,y_test,sigma,h):\n",
    "  mu, var = GPRegression(X_train,X_test,y_train,sigma,h)\n",
    "  RMSE = np.sqrt(np.mean((mu-y_test.values)**2))\n",
    "  print(\"The RMSE Score is :\",round(RMSE,3))"
   ]
  },
  {
   "cell_type": "code",
   "execution_count": 60,
   "metadata": {
    "colab": {
     "base_uri": "https://localhost:8080/"
    },
    "id": "U1AFUYEuU88h",
    "outputId": "2441b0b7-203e-40df-e40a-d06db1167c83"
   },
   "outputs": [
    {
     "name": "stdout",
     "output_type": "stream",
     "text": [
      "The RMSE Score is : 5.697\n"
     ]
    }
   ],
   "source": [
    "# Calculating hyperparameters  that minimize the log marginal likelihood \n",
    "sigma,h = hyperParameters(X_train,y_train,sigmas,hs)\n",
    "\n",
    "# Fitting the Gaussian Progress Regression model and getting the RMSE score\n",
    "score(X_train,X_test,y_test,sigma,h)"
   ]
  },
  {
   "cell_type": "code",
   "execution_count": null,
   "metadata": {
    "id": "yyxx2Oi-4Jlg"
   },
   "outputs": [],
   "source": []
  }
 ],
 "metadata": {
  "colab": {
   "collapsed_sections": [],
   "name": "AML_HW3_Akhila S.ipynb",
   "provenance": []
  },
  "kernelspec": {
   "display_name": "Python 3",
   "language": "python",
   "name": "python3"
  },
  "language_info": {
   "codemirror_mode": {
    "name": "ipython",
    "version": 3
   },
   "file_extension": ".py",
   "mimetype": "text/x-python",
   "name": "python",
   "nbconvert_exporter": "python",
   "pygments_lexer": "ipython3",
   "version": "3.8.8"
  }
 },
 "nbformat": 4,
 "nbformat_minor": 1
}
